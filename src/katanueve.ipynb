{
 "cells": [
  {
   "cell_type": "markdown",
   "metadata": {},
   "source": [
    "### Ejercicio 1"
   ]
  },
  {
   "cell_type": "code",
   "execution_count": 15,
   "metadata": {},
   "outputs": [
    {
     "name": "stdout",
     "output_type": "stream",
     "text": [
      "Capitan! nos quedan 588 litros de combustoleo, lo que equivale a unos 196.0 litros por tanque, hasta aqui mi reporte Joaquín\n"
     ]
    }
   ],
   "source": [
    "def fuel_informachon(fuelOne, fueltwo, fuelthree):\n",
    "  avg = (calculate_avg(fuelOne, fueltwo, fuelthree))\n",
    "  return(f'Capitan! nos quedan {fuelOne + fueltwo + fuelthree} litros de combustoleo, lo que equivale a unos {avg} litros por tanque, hasta aqui mi reporte Joaquín')\n",
    "\n",
    "def calculate_avg(fuelOne, fuelTwo, fuelThree):\n",
    "  return ((fuelOne + fuelTwo + fuelThree) / 3)\n",
    "\n",
    "\n",
    "print(fuel_informachon(99,69,420))"
   ]
  },
  {
   "cell_type": "markdown",
   "metadata": {},
   "source": [
    "# Ejercicio 2"
   ]
  },
  {
   "cell_type": "code",
   "execution_count": 21,
   "metadata": {},
   "outputs": [
    {
     "name": "stdout",
     "output_type": "stream",
     "text": [
      "To: Mars\n",
      "  Fuel reservoirs:\n",
      "  Tank 1: 99 gallons\n",
      "  Tank 2: 69 gallons\n",
      "  Tank 3: 420 gallons\n",
      "  Estimated flight time available 8820 minutes\n",
      "\n",
      "  Time estimation to Mars: 360\n",
      "  \n"
     ]
    }
   ],
   "source": [
    "def fuel_informachon(destination, *tanks, **time_estimation):\n",
    "  avg = (calculate_avg(tanks[0], tanks[1], tanks[2]))\n",
    "  return (f\"\"\"To: {destination}\n",
    "  Fuel reservoirs:\n",
    "  Tank 1: {tanks[0]} gallons\n",
    "  Tank 2: {tanks[1]} gallons\n",
    "  Tank 3: {tanks[2]} gallons\n",
    "  Estimated flight time available {(tanks[0] + tanks[1] + tanks[2])* 15} minutes\n",
    "\n",
    "  Time estimation to {destination}: {time_estimation['estimation']}\n",
    "  \"\"\")\n",
    "\n",
    "def calculate_avg(fuelOne, fuelTwo, fuelThree):\n",
    "  return ((fuelOne + fuelTwo + fuelThree) / 3)\n",
    "\n",
    "print(fuel_informachon('Mars',99,69,420, estimation = 360))"
   ]
  }
 ],
 "metadata": {
  "interpreter": {
   "hash": "522ab3645db2fc309a1db591511510e2f90faf48a460658c60af455e603b2dfc"
  },
  "kernelspec": {
   "display_name": "Python 3.10.1 ('env': venv)",
   "language": "python",
   "name": "python3"
  },
  "language_info": {
   "codemirror_mode": {
    "name": "ipython",
    "version": 3
   },
   "file_extension": ".py",
   "mimetype": "text/x-python",
   "name": "python",
   "nbconvert_exporter": "python",
   "pygments_lexer": "ipython3",
   "version": "3.10.1"
  },
  "orig_nbformat": 4
 },
 "nbformat": 4,
 "nbformat_minor": 2
}
