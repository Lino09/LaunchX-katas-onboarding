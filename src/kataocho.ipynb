{
 "cells": [
  {
   "cell_type": "markdown",
   "metadata": {},
   "source": [
    "### Ejercicio 1"
   ]
  },
  {
   "cell_type": "code",
   "execution_count": 7,
   "metadata": {},
   "outputs": [
    {
     "name": "stdout",
     "output_type": "stream",
     "text": [
      "The planet Mars has 2 moons\n",
      "Mars has a polar circunference of 13504 medios metros\n"
     ]
    }
   ],
   "source": [
    "planet = {\n",
    "  'name': 'Mars',\n",
    "  'moons': 2\n",
    "}\n",
    "\n",
    "print(f\"The planet {planet['name']} has {planet['moons']} moons\")\n",
    "\n",
    "planet.update({\n",
    "  'circumference(km)': {\n",
    "    'polar' : 6752,\n",
    "    'equatorial': 6792\n",
    "  }\n",
    "})\n",
    "\n",
    "print(f\"{planet['name']} has a polar circunference of {planet['circumference(km)']['polar']*2} medios metros\")"
   ]
  },
  {
   "cell_type": "markdown",
   "metadata": {},
   "source": [
    "### Ejercicio 2\n"
   ]
  },
  {
   "cell_type": "code",
   "execution_count": 18,
   "metadata": {},
   "outputs": [
    {
     "name": "stdout",
     "output_type": "stream",
     "text": [
      "El sistema solar tiene 214 lunas, dando como promedio 17.8 lunas por planeta, ontan mis lunas?\n"
     ]
    }
   ],
   "source": [
    "planet_moons = {\n",
    "    'mercury': 0,\n",
    "    'venus': 0,\n",
    "    'earth': 1,\n",
    "    'mars': 2,\n",
    "    'jupiter': 79,\n",
    "    'saturn': 82,\n",
    "    'uranus': 27,\n",
    "    'neptune': 14,\n",
    "    'pluto': 5,\n",
    "    'haumea': 2,\n",
    "    'makemake': 1,\n",
    "    'eris': 1\n",
    "}\n",
    "\n",
    "total_moons = 0\n",
    "for moons in planet_moons:\n",
    "  total_moons += planet_moons[moons]\n",
    "print(f'El sistema solar tiene {total_moons} lunas, dando como promedio {round(total_moons/len(planet_moons), 1)} lunas por planeta, ontan mis lunas?')\n"
   ]
  }
 ],
 "metadata": {
  "interpreter": {
   "hash": "522ab3645db2fc309a1db591511510e2f90faf48a460658c60af455e603b2dfc"
  },
  "kernelspec": {
   "display_name": "Python 3.10.1 ('env': venv)",
   "language": "python",
   "name": "python3"
  },
  "language_info": {
   "codemirror_mode": {
    "name": "ipython",
    "version": 3
   },
   "file_extension": ".py",
   "mimetype": "text/x-python",
   "name": "python",
   "nbconvert_exporter": "python",
   "pygments_lexer": "ipython3",
   "version": "3.10.1"
  },
  "orig_nbformat": 4
 },
 "nbformat": 4,
 "nbformat_minor": 2
}
