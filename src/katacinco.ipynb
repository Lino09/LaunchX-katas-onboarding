{
 "cells": [
  {
   "cell_type": "code",
   "execution_count": 5,
   "metadata": {},
   "outputs": [
    {
     "name": "stdout",
     "output_type": "stream",
     "text": [
      "Hola, arriba encontrarás un input para llenar los datos que te pediré\n",
      "Por favor ingresa el nombre del primer planeta\n",
      "Por favor ingresa el nombre del segundo planeta\n",
      "Por favor ingresa la distancia al sol desde Tierra\n",
      "Por favor ingresa la distancia al sol desde Venus\n",
      "Calculando...\n",
      ".\n",
      "..\n",
      "...\n",
      "La distancia entre tierra y venus es -222.0\n"
     ]
    }
   ],
   "source": [
    "import time\n",
    "\n",
    "print('Hola, arriba encontrarás un input para llenar los datos que te pediré')\n",
    "\n",
    "print('Por favor ingresa el nombre del primer planeta')\n",
    "\n",
    "first_planet = input('primer planeta')\n",
    "\n",
    "print('Por favor ingresa el nombre del segundo planeta')\n",
    "\n",
    "second_planet = input('segundo planeta')\n",
    "\n",
    "print(f'Por favor ingresa la distancia al sol desde {first_planet.title()}')\n",
    "\n",
    "first_planet_distance = float(input('Distance'))\n",
    "\n",
    "print(f'Por favor ingresa la distancia al sol desde {second_planet.title()}')\n",
    "\n",
    "second_planet_distance = float(input('Distance'))\n",
    "\n",
    "print('Calculando...')\n",
    "time.sleep(3)\n",
    "print('.')\n",
    "time.sleep(3)\n",
    "print('..')\n",
    "time.sleep(3)\n",
    "print('...')\n",
    "time.sleep(3)\n",
    "\n",
    "print(f'La distancia entre {first_planet} y {second_planet} es {abs(first_planet_distance - second_planet_distance)}')\n"
   ]
  }
 ],
 "metadata": {
  "interpreter": {
   "hash": "5813de4f42d660a2b75facf134bdf15b65451f4f0b9832fc2be984259b534d75"
  },
  "kernelspec": {
   "display_name": "Python 3.10.1 64-bit",
   "language": "python",
   "name": "python3"
  },
  "language_info": {
   "codemirror_mode": {
    "name": "ipython",
    "version": 3
   },
   "file_extension": ".py",
   "mimetype": "text/x-python",
   "name": "python",
   "nbconvert_exporter": "python",
   "pygments_lexer": "ipython3",
   "version": "3.10.1"
  },
  "orig_nbformat": 4
 },
 "nbformat": 4,
 "nbformat_minor": 2
}
